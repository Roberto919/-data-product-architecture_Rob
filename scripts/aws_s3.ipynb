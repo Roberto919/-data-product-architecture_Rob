{
 "cells": [
  {
   "cell_type": "markdown",
   "metadata": {},
   "source": [
    "![](../images/itam_logo.png)\n",
    "\n",
    "M. Sc. Liliana Millán Núñez liliana.millan@itam.mx\n",
    "\n",
    "Febrero 2021\n",
    "\n",
    "\n",
    "## AWS with Python"
   ]
  },
  {
   "cell_type": "code",
   "execution_count": 8,
   "metadata": {},
   "outputs": [],
   "source": [
    "import boto3 "
   ]
  },
  {
   "cell_type": "code",
   "execution_count": 9,
   "metadata": {},
   "outputs": [
    {
     "name": "stdout",
     "output_type": "stream",
     "text": [
      "1.11.15\n"
     ]
    }
   ],
   "source": [
    "# saber qué versión de Boto estamos ocupando\n",
    "print(boto3.__version__)"
   ]
  },
  {
   "cell_type": "markdown",
   "metadata": {},
   "source": [
    "Si tienes tu archivo `~/.aws/credentials` puedes ocupar dentro del objeto `Session`, qué perfil vas a ocupar para conectarte a AWS, también es posible indicar la región y las credenciales asociadas, aunque esto **no** se recomienda, en este caso es mejor poner las llaves en plano en algún archivo `yaml` en tu computadora y leerlos desde ahí para que **no** subas tus llaves al repositorio!.\n",
    "\n",
    "#### Con profile"
   ]
  },
  {
   "cell_type": "code",
   "execution_count": 3,
   "metadata": {},
   "outputs": [],
   "source": [
    "ses = boto3.session.Session(profile_name='mge', region_name='us-west-2')"
   ]
  },
  {
   "cell_type": "code",
   "execution_count": 4,
   "metadata": {},
   "outputs": [],
   "source": [
    "s3 = ses.resource('s3')"
   ]
  },
  {
   "cell_type": "code",
   "execution_count": 5,
   "metadata": {},
   "outputs": [
    {
     "name": "stdout",
     "output_type": "stream",
     "text": [
      "aplicaciones-cd-1\n",
      "aplicaciones-cd-2\n",
      "aws-athena-query-results-639547754660-us-east-1\n",
      "aws-athena-query-results-639547754660-us-west-2\n",
      "aws-glue-scripts-639547754660-us-west-2\n",
      "aws-glue-temporary-639547754660-us-west-2\n",
      "aws-logs-639547754660-us-east-1\n",
      "aws-logs-639547754660-us-west-2\n",
      "cse344-test-file\n",
      "dpa\n",
      "dpa-encrypted\n",
      "dpa-encrypted-2\n",
      "metodos-gran\n",
      "metodos-gran-escala\n",
      "test-secure\n"
     ]
    }
   ],
   "source": [
    "# listar los buckets que están en este perfil y región.\n",
    "for bucket in s3.buckets.all():\n",
    "    print(bucket.name)"
   ]
  },
  {
   "cell_type": "markdown",
   "metadata": {},
   "source": [
    "### Leyendo llaves de yaml"
   ]
  },
  {
   "cell_type": "code",
   "execution_count": 2,
   "metadata": {},
   "outputs": [],
   "source": [
    "import yaml"
   ]
  },
  {
   "cell_type": "code",
   "execution_count": 3,
   "metadata": {},
   "outputs": [],
   "source": [
    "# este archivo yaml vive en tu conf/local/credentials.yaml\n",
    "def read_yaml_file(yaml_file):\n",
    "    \"\"\" load yaml cofigurations \"\"\"\n",
    "\n",
    "    config = None\n",
    "    try: \n",
    "        with open (yaml_file, 'r') as f:\n",
    "            config = yaml.safe_load(f)\n",
    "    except:\n",
    "        raise FileNotFoundError('Couldnt load the file')\n",
    "    \n",
    "    return config"
   ]
  },
  {
   "cell_type": "code",
   "execution_count": 6,
   "metadata": {},
   "outputs": [],
   "source": [
    "def get_s3_credentials(credentials_file):\n",
    "    credentials = read_yaml_file(credentials_file)\n",
    "    s3_creds = credentials['s3']\n",
    "\n",
    "    return s3_creds"
   ]
  },
  {
   "cell_type": "code",
   "execution_count": 10,
   "metadata": {},
   "outputs": [],
   "source": [
    "#s3_creds = get_s3_credentials(\"../../conf/local/credentials.yaml\")\n",
    "s3_creds = get_s3_credentials(\"/home/silil/Documents/itam/metodos_gran_escala/credentials.yaml\")\n",
    "\n",
    "session = boto3.Session(\n",
    "    aws_access_key_id=s3_creds['aws_access_key_id'],\n",
    "    aws_secret_access_key=s3_creds['aws_secret_access_key']\n",
    ")\n",
    "s3 = session.client('s3')"
   ]
  },
  {
   "cell_type": "markdown",
   "metadata": {},
   "source": [
    "##### Listado de solo una carpeta en específico"
   ]
  },
  {
   "cell_type": "code",
   "execution_count": 15,
   "metadata": {},
   "outputs": [],
   "source": [
    "bucket = \"metodos-gran-escala\"\n",
    "key = \"northwind\""
   ]
  },
  {
   "cell_type": "code",
   "execution_count": 16,
   "metadata": {},
   "outputs": [],
   "source": [
    "objects = s3.list_objects_v2(Bucket=bucket, Prefix=key)['Contents']"
   ]
  },
  {
   "cell_type": "code",
   "execution_count": 17,
   "metadata": {},
   "outputs": [
    {
     "data": {
      "text/plain": [
       "[{'Key': 'northwind/customers.csv',\n",
       "  'LastModified': datetime.datetime(2019, 2, 27, 1, 57, 6, tzinfo=tzutc()),\n",
       "  'ETag': '\"5f42cfb8c6ce316281596336f87f37bb\"',\n",
       "  'Size': 11558,\n",
       "  'StorageClass': 'STANDARD'},\n",
       " {'Key': 'northwind/employees.csv',\n",
       "  'LastModified': datetime.datetime(2019, 2, 27, 1, 57, 6, tzinfo=tzutc()),\n",
       "  'ETag': '\"ce832fe36e34dd7942c322322500fef9\"',\n",
       "  'Size': 4059,\n",
       "  'StorageClass': 'STANDARD'},\n",
       " {'Key': 'northwind/order_details.csv',\n",
       "  'LastModified': datetime.datetime(2019, 3, 6, 1, 57, 10, tzinfo=tzutc()),\n",
       "  'ETag': '\"f493c58c1cb13b6e9888dd091c6d3f10\"',\n",
       "  'Size': 40622,\n",
       "  'StorageClass': 'STANDARD'},\n",
       " {'Key': 'northwind/orders.csv',\n",
       "  'LastModified': datetime.datetime(2019, 3, 6, 1, 56, 52, tzinfo=tzutc()),\n",
       "  'ETag': '\"cfa9eaf9c9e12e08e617747cf43a3921\"',\n",
       "  'Size': 98517,\n",
       "  'StorageClass': 'STANDARD'},\n",
       " {'Key': 'northwind/products.csv',\n",
       "  'LastModified': datetime.datetime(2019, 2, 27, 1, 57, 6, tzinfo=tzutc()),\n",
       "  'ETag': '\"4e9ef122f1fe7673e1b0d3643e995d17\"',\n",
       "  'Size': 4327,\n",
       "  'StorageClass': 'STANDARD'}]"
      ]
     },
     "execution_count": 17,
     "metadata": {},
     "output_type": "execute_result"
    }
   ],
   "source": [
    "objects"
   ]
  },
  {
   "cell_type": "markdown",
   "metadata": {},
   "source": [
    "### Creación de un bucket\n",
    "\n",
    "+ Por default los *buckets* son creados en la región *US East (N. Virginia)* `us-east-1`, necesitarás definir en qué región quieres crear el *bucket*. \n",
    "+ Los nombres de buckets **no** pueden llevar guiónes bajos, te marcará que el nombre es inválido, en lugar de los guiones bajos puedes ocupar guiónes altos."
   ]
  },
  {
   "cell_type": "code",
   "execution_count": 45,
   "metadata": {},
   "outputs": [
    {
     "data": {
      "text/plain": [
       "s3.Bucket(name='test-aws-boto')"
      ]
     },
     "execution_count": 45,
     "metadata": {},
     "output_type": "execute_result"
    }
   ],
   "source": [
    "#crear un bucket\n",
    "bucket_name = 'test-aws-boto'\n",
    "\n",
    "s3.create_bucket(Bucket=bucket_name, \n",
    "                 CreateBucketConfiguration={'LocationConstraint': 'us-west-2'},\n",
    "                ACL='private')"
   ]
  },
  {
   "cell_type": "markdown",
   "metadata": {},
   "source": [
    "### Guardar archivos en el bucket"
   ]
  },
  {
   "cell_type": "code",
   "execution_count": 55,
   "metadata": {},
   "outputs": [],
   "source": [
    "# subiremos un archivo csv de ejemplo: pollution con ~43k registros \n",
    "#con observaciones de contaminación del aire en una ciudad de China. \n",
    "file_to_upload = '/home/silil/Documents/pollution.csv'\n",
    "file_name = file_to_upload.split(sep='/')[-1]\n",
    "\n",
    "# accedemos a client desde el resource\n",
    "s3.meta.client.upload_file(file_to_upload, bucket_name, file_name)"
   ]
  },
  {
   "cell_type": "markdown",
   "metadata": {},
   "source": [
    "### Acceder al bucket"
   ]
  },
  {
   "cell_type": "code",
   "execution_count": 56,
   "metadata": {},
   "outputs": [
    {
     "name": "stdout",
     "output_type": "stream",
     "text": [
      "s3.ObjectSummary(bucket_name='test-aws-boto', key='pollution.csv')\n"
     ]
    }
   ],
   "source": [
    "# acceder al bucket\n",
    "my_bucket = s3.Bucket(bucket_name)\n",
    "\n",
    "for element in my_bucket.objects.all():\n",
    "    print(element)"
   ]
  },
  {
   "cell_type": "markdown",
   "metadata": {},
   "source": [
    "### Bajar archivos del bucket"
   ]
  },
  {
   "cell_type": "code",
   "execution_count": 60,
   "metadata": {},
   "outputs": [],
   "source": [
    "path_to_download = '/home/silil/Documents/itam/metodos_gran_escala/data-product-architecture/' + file_name\n",
    "\n",
    "s3.meta.client.download_file(bucket_name, file_name, path_to_download)"
   ]
  },
  {
   "cell_type": "markdown",
   "metadata": {},
   "source": [
    "### Borrar archivos del bucket"
   ]
  },
  {
   "cell_type": "code",
   "execution_count": 61,
   "metadata": {},
   "outputs": [
    {
     "data": {
      "text/plain": [
       "{'ResponseMetadata': {'RequestId': 'F6D1AA9745ADFEBE',\n",
       "  'HostId': '6SAzJwWvNHxweiJBD8hBuFyfl9/HdyS+8R4uHkOZIjlMaDPjqosrqbQqinpoqywoYH3iVdNNkJE=',\n",
       "  'HTTPStatusCode': 204,\n",
       "  'HTTPHeaders': {'x-amz-id-2': '6SAzJwWvNHxweiJBD8hBuFyfl9/HdyS+8R4uHkOZIjlMaDPjqosrqbQqinpoqywoYH3iVdNNkJE=',\n",
       "   'x-amz-request-id': 'F6D1AA9745ADFEBE',\n",
       "   'date': 'Fri, 14 Feb 2020 20:56:53 GMT',\n",
       "   'server': 'AmazonS3'},\n",
       "  'RetryAttempts': 0}}"
      ]
     },
     "execution_count": 61,
     "metadata": {},
     "output_type": "execute_result"
    }
   ],
   "source": [
    "s3.Object(bucket_name, file_name).delete()"
   ]
  },
  {
   "cell_type": "markdown",
   "metadata": {},
   "source": [
    "### Borrar el bucket"
   ]
  },
  {
   "cell_type": "code",
   "execution_count": 63,
   "metadata": {},
   "outputs": [
    {
     "data": {
      "text/plain": [
       "{'ResponseMetadata': {'RequestId': 'AD0D410932E0AF53',\n",
       "  'HostId': 'uyoHxHQlhtK4SnDgxU0DPNGfrdg+8DOmLR4dda7bY9sLApMf/JwzXkHQEuaO5CgjxVK9vA5gHXY=',\n",
       "  'HTTPStatusCode': 204,\n",
       "  'HTTPHeaders': {'x-amz-id-2': 'uyoHxHQlhtK4SnDgxU0DPNGfrdg+8DOmLR4dda7bY9sLApMf/JwzXkHQEuaO5CgjxVK9vA5gHXY=',\n",
       "   'x-amz-request-id': 'AD0D410932E0AF53',\n",
       "   'date': 'Fri, 14 Feb 2020 20:57:52 GMT',\n",
       "   'server': 'AmazonS3'},\n",
       "  'RetryAttempts': 0}}"
      ]
     },
     "execution_count": 63,
     "metadata": {},
     "output_type": "execute_result"
    }
   ],
   "source": [
    "s3.Bucket(bucket_name).delete()"
   ]
  },
  {
   "cell_type": "markdown",
   "metadata": {},
   "source": [
    "### Referecias \n",
    "\n",
    "+ [S3 boto3 API Reference](https://boto3.amazonaws.com/v1/documentation/api/latest/reference/services/s3.html)"
   ]
  },
  {
   "cell_type": "code",
   "execution_count": null,
   "metadata": {},
   "outputs": [],
   "source": []
  }
 ],
 "metadata": {
  "kernelspec": {
   "display_name": "itam",
   "language": "python",
   "name": "itam"
  },
  "language_info": {
   "codemirror_mode": {
    "name": "ipython",
    "version": 3
   },
   "file_extension": ".py",
   "mimetype": "text/x-python",
   "name": "python",
   "nbconvert_exporter": "python",
   "pygments_lexer": "ipython3",
   "version": "3.7.4"
  }
 },
 "nbformat": 4,
 "nbformat_minor": 2
}
